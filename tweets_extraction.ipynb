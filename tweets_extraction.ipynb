{
 "cells": [
  {
   "cell_type": "code",
   "execution_count": 1,
   "metadata": {},
   "outputs": [],
   "source": [
    "import tweepy\n",
    "import numpy as np\n",
    "import pandas as pd\n",
    "from tweepy import OAuthHandler\n",
    "import matplotlib.pyplot as plt\n",
    "import seaborn as sns\n",
    "import nltk"
   ]
  },
  {
   "cell_type": "code",
   "execution_count": 2,
   "metadata": {},
   "outputs": [],
   "source": [
    "consumer_key = 'hRZhWltKq5rfE6pIj8TwgV7QG'\n",
    "consumer_secret = 'fGlA8NQsDKJgd6AylkAXJcByWtl63ffRy0f3icUOALn8GgthxX'\n",
    "access_token = '1381489465579855873-4DqvH0meHEA3GNDKdlh6KFlMPTklec'\n",
    "access_secret = 'HGUXfSqklXnzHc4AzxC9o9FsLWzi3frznNa4ZtLCE1XJJ'"
   ]
  },
  {
   "cell_type": "code",
   "execution_count": 3,
   "metadata": {},
   "outputs": [],
   "source": [
    "auth = tweepy.OAuthHandler(consumer_key, consumer_secret)\n",
    "auth.set_access_token(access_token, access_secret)\n",
    "api = tweepy.API(auth)\n",
    "api = tweepy.API(auth, wait_on_rate_limit=True)"
   ]
  },
  {
   "cell_type": "code",
   "execution_count": 4,
   "metadata": {},
   "outputs": [],
   "source": [
    "results=[]"
   ]
  },
  {
   "cell_type": "code",
   "execution_count": null,
   "metadata": {},
   "outputs": [],
   "source": [
    "for tweet in tweepy.Cursor(api.search, q='corona', lang=\"en\").items(3000):\n",
    "    if (not tweet.retweeted) and ('RT @' not in tweet.text) and (len(tweet.text)>20):\n",
    "        results.append(tweet)\n",
    "        id = tweet.id\n",
    "print(len(results))"
   ]
  },
  {
   "cell_type": "code",
   "execution_count": 6,
   "metadata": {},
   "outputs": [],
   "source": [
    "def process_result(results):\n",
    "    id_list = [tweet.id for tweet in results]\n",
    "    data_set = pd.DataFrame(id_list,columns = ['id'])\n",
    "    \n",
    "    # Processing Tweet Data\n",
    "    data_set[\"text\"] = [tweet.text for tweet in results] #text of tweet\n",
    "    data_set[\"created_at\"] = [tweet.created_at for tweet in results] #when the tweet was created\n",
    "    data_set[\"retweet_count\"] = [tweet.retweet_count for tweet in results] #number of retweets\n",
    "    data_set[\"favorite_count\"] = [tweet.favorite_count for tweet in results] #number of favourites\n",
    "    data_set[\"source\"] = [tweet.source for tweet in results] #source of the tweet\n",
    "    data_set[\"length\"] = [len(tweet.text) for tweet in results] #number of characters in tweet\n",
    "\n",
    "    # Processing User Data\n",
    "    data_set[\"user_id\"] = [tweet.author.id for tweet in results] #id of the author\n",
    "    data_set[\"user_screen_name\"] = [tweet.author.screen_name for tweet in results] \n",
    "    data_set[\"user_name\"] = [tweet.author.name for tweet in results]\n",
    "    data_set[\"user_created_at\"] = [tweet.author.created_at for tweet in results] #age of user account\n",
    "    data_set[\"user_description\"] = [tweet.author.description for tweet in results]\n",
    "    data_set[\"user_followers_count\"] = [tweet.author.followers_count for tweet in results] #number of followers\n",
    "    data_set[\"user_friends_count\"] = [tweet.author.friends_count for tweet in results] #number of friends\n",
    "    data_set[\"user_location\"] = [tweet.author.location for tweet in results] #user has a location in profile?\n",
    "    data_set[\"user_statuses_count\"] = [tweet.author.statuses_count for tweet in results] #number of statuses\n",
    "    data_set[\"user_verified\"] = [tweet.author.verified for tweet in results] #user is verified?\n",
    "    data_set[\"user_url\"] = [tweet.author.url for tweet in results] #user has a URL?\n",
    "\n",
    "    return data_set"
   ]
  },
  {
   "cell_type": "code",
   "execution_count": 7,
   "metadata": {},
   "outputs": [],
   "source": [
    "data_set = process_result(results)"
   ]
  },
  {
   "cell_type": "code",
   "execution_count": 11,
   "metadata": {},
   "outputs": [
    {
     "name": "stdout",
     "output_type": "stream",
     "text": [
      "<class 'pandas.core.frame.DataFrame'>\n",
      "RangeIndex: 1006 entries, 0 to 1005\n",
      "Data columns (total 18 columns):\n",
      " #   Column                Non-Null Count  Dtype         \n",
      "---  ------                --------------  -----         \n",
      " 0   id                    1006 non-null   int64         \n",
      " 1   text                  1006 non-null   object        \n",
      " 2   created_at            1006 non-null   datetime64[ns]\n",
      " 3   retweet_count         1006 non-null   int64         \n",
      " 4   favorite_count        1006 non-null   int64         \n",
      " 5   source                1006 non-null   object        \n",
      " 6   length                1006 non-null   int64         \n",
      " 7   user_id               1006 non-null   int64         \n",
      " 8   user_screen_name      1006 non-null   object        \n",
      " 9   user_name             1006 non-null   object        \n",
      " 10  user_created_at       1006 non-null   datetime64[ns]\n",
      " 11  user_description      1006 non-null   object        \n",
      " 12  user_followers_count  1006 non-null   int64         \n",
      " 13  user_friends_count    1006 non-null   int64         \n",
      " 14  user_location         1006 non-null   object        \n",
      " 15  user_statuses_count   1006 non-null   int64         \n",
      " 16  user_verified         1006 non-null   bool          \n",
      " 17  user_url              212 non-null    object        \n",
      "dtypes: bool(1), datetime64[ns](2), int64(8), object(7)\n",
      "memory usage: 134.7+ KB\n"
     ]
    }
   ],
   "source": [
    "data_set.info()"
   ]
  },
  {
   "cell_type": "code",
   "execution_count": 12,
   "metadata": {},
   "outputs": [
    {
     "data": {
      "text/html": [
       "<div>\n",
       "<style scoped>\n",
       "    .dataframe tbody tr th:only-of-type {\n",
       "        vertical-align: middle;\n",
       "    }\n",
       "\n",
       "    .dataframe tbody tr th {\n",
       "        vertical-align: top;\n",
       "    }\n",
       "\n",
       "    .dataframe thead th {\n",
       "        text-align: right;\n",
       "    }\n",
       "</style>\n",
       "<table border=\"1\" class=\"dataframe\">\n",
       "  <thead>\n",
       "    <tr style=\"text-align: right;\">\n",
       "      <th></th>\n",
       "      <th>id</th>\n",
       "      <th>text</th>\n",
       "      <th>created_at</th>\n",
       "      <th>retweet_count</th>\n",
       "      <th>favorite_count</th>\n",
       "      <th>source</th>\n",
       "      <th>length</th>\n",
       "      <th>user_id</th>\n",
       "      <th>user_screen_name</th>\n",
       "      <th>user_name</th>\n",
       "      <th>user_created_at</th>\n",
       "      <th>user_description</th>\n",
       "      <th>user_followers_count</th>\n",
       "      <th>user_friends_count</th>\n",
       "      <th>user_location</th>\n",
       "      <th>user_statuses_count</th>\n",
       "      <th>user_verified</th>\n",
       "      <th>user_url</th>\n",
       "    </tr>\n",
       "  </thead>\n",
       "  <tbody>\n",
       "    <tr>\n",
       "      <th>0</th>\n",
       "      <td>1388708328520314885</td>\n",
       "      <td>@priyaprasad26 @narendramodi I live in US. The...</td>\n",
       "      <td>2021-05-02 04:14:01</td>\n",
       "      <td>0</td>\n",
       "      <td>0</td>\n",
       "      <td>Twitter for Android</td>\n",
       "      <td>139</td>\n",
       "      <td>171754213</td>\n",
       "      <td>j1a1k2</td>\n",
       "      <td>Avi</td>\n",
       "      <td>2010-07-28 02:41:12</td>\n",
       "      <td></td>\n",
       "      <td>4</td>\n",
       "      <td>14</td>\n",
       "      <td>Vancouver, British Columbia</td>\n",
       "      <td>237</td>\n",
       "      <td>False</td>\n",
       "      <td>None</td>\n",
       "    </tr>\n",
       "    <tr>\n",
       "      <th>1</th>\n",
       "      <td>1388708288636678144</td>\n",
       "      <td>@chronolynx @lussuriioso It's been lost in the...</td>\n",
       "      <td>2021-05-02 04:13:51</td>\n",
       "      <td>0</td>\n",
       "      <td>0</td>\n",
       "      <td>Twitter Web App</td>\n",
       "      <td>139</td>\n",
       "      <td>3369410788</td>\n",
       "      <td>Caladrioose</td>\n",
       "      <td>Shitfartcumslut666</td>\n",
       "      <td>2015-07-10 15:21:58</td>\n",
       "      <td>27/He ⚣ R18\\nVideo game man and W fan\\nHorny a...</td>\n",
       "      <td>202</td>\n",
       "      <td>613</td>\n",
       "      <td>US</td>\n",
       "      <td>49197</td>\n",
       "      <td>False</td>\n",
       "      <td>None</td>\n",
       "    </tr>\n",
       "    <tr>\n",
       "      <th>2</th>\n",
       "      <td>1388708285277036552</td>\n",
       "      <td>@RajGovOfficial Honorable Chief Minister I req...</td>\n",
       "      <td>2021-05-02 04:13:50</td>\n",
       "      <td>0</td>\n",
       "      <td>0</td>\n",
       "      <td>Twitter for Android</td>\n",
       "      <td>140</td>\n",
       "      <td>711878854328098816</td>\n",
       "      <td>ms975927</td>\n",
       "      <td>mahendra singh 29</td>\n",
       "      <td>2016-03-21 11:35:19</td>\n",
       "      <td></td>\n",
       "      <td>0</td>\n",
       "      <td>11</td>\n",
       "      <td></td>\n",
       "      <td>7</td>\n",
       "      <td>False</td>\n",
       "      <td>None</td>\n",
       "    </tr>\n",
       "    <tr>\n",
       "      <th>3</th>\n",
       "      <td>1388708284668932106</td>\n",
       "      <td>@DSSNewsUpdates @Gurmeetramrahim @derasachasau...</td>\n",
       "      <td>2021-05-02 04:13:50</td>\n",
       "      <td>0</td>\n",
       "      <td>0</td>\n",
       "      <td>Twitter for Android</td>\n",
       "      <td>140</td>\n",
       "      <td>2214198590</td>\n",
       "      <td>IMGarry8</td>\n",
       "      <td>🅶🅰🆁🆁🆈</td>\n",
       "      <td>2013-11-25 14:57:21</td>\n",
       "      <td>State Awardee (SBSI),  Diploma in Computer. \\n...</td>\n",
       "      <td>524</td>\n",
       "      <td>817</td>\n",
       "      <td>amɓala caŋtt. harɣaŋa</td>\n",
       "      <td>28752</td>\n",
       "      <td>False</td>\n",
       "      <td>https://t.co/Xx6nXHG24m</td>\n",
       "    </tr>\n",
       "    <tr>\n",
       "      <th>4</th>\n",
       "      <td>1388708275072299010</td>\n",
       "      <td>@rajeevkhullar20 @deekhush @jslaternyc @suhasi...</td>\n",
       "      <td>2021-05-02 04:13:48</td>\n",
       "      <td>0</td>\n",
       "      <td>0</td>\n",
       "      <td>Twitter for iPhone</td>\n",
       "      <td>140</td>\n",
       "      <td>1382554017893556224</td>\n",
       "      <td>DubbukuM</td>\n",
       "      <td>DisasterCalledModi</td>\n",
       "      <td>2021-04-15 04:39:45</td>\n",
       "      <td>I Love India 🇮🇳</td>\n",
       "      <td>12</td>\n",
       "      <td>116</td>\n",
       "      <td></td>\n",
       "      <td>1008</td>\n",
       "      <td>False</td>\n",
       "      <td>None</td>\n",
       "    </tr>\n",
       "  </tbody>\n",
       "</table>\n",
       "</div>"
      ],
      "text/plain": [
       "                    id                                               text  \\\n",
       "0  1388708328520314885  @priyaprasad26 @narendramodi I live in US. The...   \n",
       "1  1388708288636678144  @chronolynx @lussuriioso It's been lost in the...   \n",
       "2  1388708285277036552  @RajGovOfficial Honorable Chief Minister I req...   \n",
       "3  1388708284668932106  @DSSNewsUpdates @Gurmeetramrahim @derasachasau...   \n",
       "4  1388708275072299010  @rajeevkhullar20 @deekhush @jslaternyc @suhasi...   \n",
       "\n",
       "           created_at  retweet_count  favorite_count               source  \\\n",
       "0 2021-05-02 04:14:01              0               0  Twitter for Android   \n",
       "1 2021-05-02 04:13:51              0               0      Twitter Web App   \n",
       "2 2021-05-02 04:13:50              0               0  Twitter for Android   \n",
       "3 2021-05-02 04:13:50              0               0  Twitter for Android   \n",
       "4 2021-05-02 04:13:48              0               0   Twitter for iPhone   \n",
       "\n",
       "   length              user_id user_screen_name           user_name  \\\n",
       "0     139            171754213           j1a1k2                 Avi   \n",
       "1     139           3369410788      Caladrioose  Shitfartcumslut666   \n",
       "2     140   711878854328098816         ms975927   mahendra singh 29   \n",
       "3     140           2214198590         IMGarry8               🅶🅰🆁🆁🆈   \n",
       "4     140  1382554017893556224         DubbukuM  DisasterCalledModi   \n",
       "\n",
       "      user_created_at                                   user_description  \\\n",
       "0 2010-07-28 02:41:12                                                      \n",
       "1 2015-07-10 15:21:58  27/He ⚣ R18\\nVideo game man and W fan\\nHorny a...   \n",
       "2 2016-03-21 11:35:19                                                      \n",
       "3 2013-11-25 14:57:21  State Awardee (SBSI),  Diploma in Computer. \\n...   \n",
       "4 2021-04-15 04:39:45                                    I Love India 🇮🇳   \n",
       "\n",
       "   user_followers_count  user_friends_count                user_location  \\\n",
       "0                     4                  14  Vancouver, British Columbia   \n",
       "1                   202                 613                           US   \n",
       "2                     0                  11                                \n",
       "3                   524                 817        amɓala caŋtt. harɣaŋa   \n",
       "4                    12                 116                                \n",
       "\n",
       "   user_statuses_count  user_verified                 user_url  \n",
       "0                  237          False                     None  \n",
       "1                49197          False                     None  \n",
       "2                    7          False                     None  \n",
       "3                28752          False  https://t.co/Xx6nXHG24m  \n",
       "4                 1008          False                     None  "
      ]
     },
     "execution_count": 12,
     "metadata": {},
     "output_type": "execute_result"
    }
   ],
   "source": [
    "data_set.head()"
   ]
  },
  {
   "cell_type": "code",
   "execution_count": 13,
   "metadata": {
    "scrolled": true
   },
   "outputs": [
    {
     "data": {
      "text/plain": [
       "<AxesSubplot:>"
      ]
     },
     "execution_count": 13,
     "metadata": {},
     "output_type": "execute_result"
    },
    {
     "data": {
      "image/png": "[encoded data removed]",
      "text/plain": [
       "<Figure size 432x288 with 1 Axes>"
      ]
     },
     "metadata": {
      "needs_background": "light"
     },
     "output_type": "display_data"
    }
   ],
   "source": [
    "sns.heatmap(data_set.isnull(), cbar=False)"
   ]
  },
  {
   "cell_type": "code",
   "execution_count": 14,
   "metadata": {},
   "outputs": [
    {
     "data": {
      "text/plain": [
       "0    @priyaprasad26 @narendramodi I live in US. The...\n",
       "1    @chronolynx @lussuriioso It's been lost in the...\n",
       "2    @RajGovOfficial Honorable Chief Minister I req...\n",
       "3    @DSSNewsUpdates @Gurmeetramrahim @derasachasau...\n",
       "4    @rajeevkhullar20 @deekhush @jslaternyc @suhasi...\n",
       "Name: text, dtype: object"
      ]
     },
     "execution_count": 14,
     "metadata": {},
     "output_type": "execute_result"
    }
   ],
   "source": [
    "data_set['text'].head()"
   ]
  },
  {
   "cell_type": "code",
   "execution_count": 15,
   "metadata": {},
   "outputs": [],
   "source": [
    "data_set.to_csv(\"covid\", index=False, encoding='utf-8')"
   ]
  }
 ],
 "metadata": {
  "kernelspec": {
   "display_name": "Python 3",
   "language": "python",
   "name": "python3"
  },
  "language_info": {
   "codemirror_mode": {
    "name": "ipython",
    "version": 3
   },
   "file_extension": ".py",
   "mimetype": "text/x-python",
   "name": "python",
   "nbconvert_exporter": "python",
   "pygments_lexer": "ipython3",
   "version": "3.8.5"
  }
 },
 "nbformat": 4,
 "nbformat_minor": 4
}
